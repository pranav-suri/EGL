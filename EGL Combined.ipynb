{
 "cells": [
  {
   "cell_type": "code",
   "execution_count": 1,
   "metadata": {},
   "outputs": [],
   "source": [
    "import math"
   ]
  },
  {
   "cell_type": "code",
   "execution_count": 9,
   "metadata": {},
   "outputs": [],
   "source": [
    "# Declaring all variables in global\n",
    "line_len = None\n",
    "d_hp = None\n",
    "d_vp = None\n",
    "\n",
    "hp_angle = None\n",
    "vp_angle = None\n",
    "\n",
    "fv_coord1 = None\n",
    "fv_x_coord1 = None\n",
    "fv_y_coord1 = None\n",
    "\n",
    "tv_coord1 = None\n",
    "tv_x_coord1 = None\n",
    "tv_y_coord1 = None\n",
    "\n",
    "fv_coord2 = None\n",
    "fv_x_coord2 = None\n",
    "fv_y_coord2 = None\n",
    "\n",
    "tv_coord2 = None\n",
    "tv_x_coord2 = None\n",
    "tv_y_coord2 = None\n",
    "\n",
    "fv_coord3 = None\n",
    "fv_x_coord3 = None\n",
    "fv_y_coord3 = None\n",
    "\n",
    "tv_coord3 = None\n",
    "tv_x_coord3 = None\n",
    "tv_y_coord3 = None\n",
    "\n",
    "fv_coord4 = None\n",
    "fv_x_coord4 = None\n",
    "fv_y_coord4 = None\n",
    "\n",
    "tv_coord4 = None\n",
    "tv_x_coord4 = None\n",
    "tv_y_coord4 = None\n",
    "\n",
    "fv_angle4 = None\n",
    "tv_angle4 = None\n",
    "\n",
    "fv_len4 = None\n",
    "tv_len4 = None\n",
    "\n",
    "fv_d_end_hp = None\n",
    "tv_d_end_hp = None\n"
   ]
  },
  {
   "cell_type": "code",
   "execution_count": 10,
   "metadata": {},
   "outputs": [],
   "source": [
    "def defaultInput():\n",
    "    \n",
    "    global line_len, d_hp, d_vp, fv_coord1, fv_x_coord1, fv_y_coord1, tv_coord1, tv_x_coord1, tv_y_coord1\n",
    "\n",
    "    # distance from hp, vp\n",
    "    d_hp = int(input(\"Distance from HP: \"))\n",
    "    d_vp = int(input(\"Distance from VP: \"))\n",
    "\n",
    "    #fv, tv  coordinates of starting point\n",
    "\n",
    "    fv_coord1 = (0,d_hp)\n",
    "    fv_x_coord1, fv_y_coord1 = fv_coord1\n",
    "\n",
    "    tv_coord1 = (0,-1*d_vp)\n",
    "    tv_x_coord1, tv_y_coord1 = tv_coord1\n",
    "\n",
    "    line_len = int(input(\"Length of line: \"))\n",
    "    \n",
    "def calculateEverything():\n",
    "    \n",
    "    fv_p_len2 = math.sin(math.radians(hp_angle)) * line_len\n",
    "    fv_b_len2 = math.cos(math.radians(hp_angle)) * line_len\n",
    "\n",
    "    tv_p_len2 = math.sin(math.radians(vp_angle)) * line_len\n",
    "    tv_b_len2 = math.cos(math.radians(vp_angle)) * line_len\n",
    "\n",
    "    if fv_y_coord1<0:\n",
    "        fv_p_len2 *= -1\n",
    "    if tv_y_coord1<0:\n",
    "        tv_p_len2 *= -1\n",
    "\n",
    "    fv_coord2 = (fv_x_coord1+fv_b_len2, fv_y_coord1+fv_p_len2)\n",
    "    fv_x_coord2, fv_y_coord2 = fv_coord2\n",
    "\n",
    "    tv_coord2 = (tv_x_coord1+tv_b_len2,tv_y_coord1+tv_p_len2)\n",
    "    tv_x_coord2, tv_y_coord2 = tv_coord2\n",
    "\n",
    "    fv_coord3 = (fv_x_coord1+tv_b_len2,fv_y_coord1)\n",
    "    fv_x_coord3, fv_y_coord3 = fv_coord3\n",
    "\n",
    "    tv_coord3 = (tv_x_coord1+fv_b_len2,tv_y_coord1)\n",
    "    tv_x_coord3, tv_y_coord3 = tv_coord3\n",
    "\n",
    "    fv_h_len4 = math.dist([fv_x_coord1],[tv_x_coord2])\n",
    "    fv_p_len4 = math.dist([fv_y_coord1],[fv_y_coord2])\n",
    "    fv_angle4 = math.degrees(math.asin(fv_p_len4/fv_h_len4))\n",
    "    fv_b_len4 = math.cos(math.radians(fv_angle4)) * fv_h_len4\n",
    "\n",
    "    tv_h_len4 = math.dist([tv_x_coord1],[fv_x_coord2])\n",
    "    tv_p_len4 = math.dist([tv_y_coord1],[tv_y_coord2])\n",
    "    tv_angle4 = math.degrees(math.asin(tv_p_len4/tv_h_len4))\n",
    "    tv_b_len4 = math.cos(math.radians(tv_angle4)) * tv_h_len4\n",
    "\n",
    "    if fv_y_coord1<0:\n",
    "        fv_p_len4 *= -1\n",
    "    if tv_y_coord1<0:\n",
    "        tv_p_len4 *= -1\n",
    "\n",
    "    fv_coord4 = (fv_x_coord1+fv_b_len4, fv_y_coord1+fv_p_len4)\n",
    "    tv_coord4 = (tv_x_coord1+tv_b_len4,tv_y_coord1+tv_p_len4)\n",
    "\n",
    "    fv_x_coord4, fv_y_coord4 = fv_coord4\n",
    "    tv_x_coord4, tv_y_coord4 = tv_coord4"
   ]
  },
  {
   "cell_type": "code",
   "execution_count": 3,
   "metadata": {},
   "outputs": [],
   "source": [
    "def q1input():\n",
    "    hp_angle = int(input(\"Inclination to HP: \"))\n",
    "    vp_angle = int(input(\"Inclination to VP: \"))\n",
    "\n",
    "def q1calculation():\n",
    "    pass"
   ]
  },
  {
   "cell_type": "code",
   "execution_count": 5,
   "metadata": {},
   "outputs": [],
   "source": [
    "def q2input():\n",
    "    fv_d_end_hp = int(input('Enter distance of end point from HP'))\n",
    "    tv_d_end_hp = int(input('Enter distance of end point from VP'))\n",
    "\n",
    "def q2calculation():\n",
    "    fv_p_len2 = fv_d_end_hp - d_hp\n",
    "    tv_p_len2 = tv_d_end_hp - d_vp\n",
    "    hp_angle = math.degrees(math.asin(fv_p_len2/line_len))\n",
    "    vp_angle = math.degrees(math.asin(tv_p_len2/line_len))"
   ]
  },
  {
   "cell_type": "code",
   "execution_count": 6,
   "metadata": {},
   "outputs": [],
   "source": [
    "def q3input():\n",
    "    hp_angle = int(input(\"Inclination to HP: \"))\n",
    "    tv_angle4 = int(input(\"Angle of TV to XY line: \"))\n",
    "\n",
    "def q3calculation():\n",
    "    fv_p_len2 = math.sin(math.radians(hp_angle)) * line_len\n",
    "    fv_b_len2 = math.cos(math.radians(hp_angle)) * line_len\n",
    "\n",
    "    fv_coord2 = (fv_x_coord1+fv_b_len2, fv_y_coord1+fv_p_len2)\n",
    "    fv_x_coord2, fv_y_coord2 = fv_coord2\n",
    "\n",
    "    tv_h_len4 = math.dist([fv_x_coord1],[fv_x_coord2])\n",
    "    tv_p_len4 = math.cos(math.radians(tv_angle4))*tv_h_len4\n",
    "    tv_b_len4 = math.sin(math.radians(tv_angle4))*tv_h_len4\n",
    "\n",
    "    vp_angle = math.degrees(math.sin(tv_p_len4/line_len))"
   ]
  },
  {
   "cell_type": "code",
   "execution_count": 11,
   "metadata": {},
   "outputs": [],
   "source": [
    "def q4input():\n",
    "    fv_len4 = int(input(\"Length of FV: \"))\n",
    "    tv_len4 = int(input(\"Length of TV: \"))\n",
    "\n",
    "def q4calculation():\n",
    "    fv_b_len2 = tv_len4\n",
    "    tv_b_len2 = fv_len4\n",
    "\n",
    "    hp_angle = math.degrees(math.acos(fv_b_len2/line_len))\n",
    "    vp_angle = math.degrees(math.acos(tv_b_len2/line_len))"
   ]
  },
  {
   "cell_type": "code",
   "execution_count": 12,
   "metadata": {},
   "outputs": [],
   "source": [
    "import matplotlib.pyplot as plt\n",
    "\n",
    "def matplotlib_plot():\n",
    "\n",
    "    plt.grid(True)\n",
    "\n",
    "    x = [fv_x_coord1, fv_x_coord4]\n",
    "    y = [fv_y_coord1, fv_y_coord4]\n",
    "\n",
    "    plt.plot(x, y, label=\"front view1\")\n",
    "\n",
    "    x = [fv_x_coord1, fv_x_coord2]\n",
    "    y = [fv_y_coord1, fv_y_coord2]\n",
    "\n",
    "    plt.plot(x, y, label=\"front view2\")\n",
    "\n",
    "    x = [tv_x_coord1, tv_x_coord4]\n",
    "    y = [tv_y_coord1, tv_y_coord4]\n",
    "\n",
    "    plt.plot(x, y, label=\"top view1\")\n",
    "\n",
    "    x = [tv_x_coord1, tv_x_coord2]\n",
    "    y = [tv_y_coord1, tv_y_coord2]\n",
    "\n",
    "    plt.plot(x, y, label=\"top view2\")\n",
    "\n",
    "    # horizontal line\n",
    "\n",
    "    plt.plot([0,200], [0,0], label=\"horizontal line\")\n",
    "\n",
    "    plt.xlim(-200,200)\n",
    "    plt.ylim(-100,100)\n",
    "\n",
    "    plt.show()"
   ]
  },
  {
   "cell_type": "code",
   "execution_count": 29,
   "metadata": {},
   "outputs": [
    {
     "ename": "TypeError",
     "evalue": "cannot unpack non-iterable NoneType object",
     "output_type": "error",
     "traceback": [
      "\u001b[1;31m---------------------------------------------------------------------------\u001b[0m",
      "\u001b[1;31mTypeError\u001b[0m                                 Traceback (most recent call last)",
      "Cell \u001b[1;32mIn [29], line 1\u001b[0m\n\u001b[1;32m----> 1\u001b[0m line_len, d_hp \u001b[39m=\u001b[39m \u001b[39mNone\u001b[39;00m\n",
      "\u001b[1;31mTypeError\u001b[0m: cannot unpack non-iterable NoneType object"
     ]
    }
   ],
   "source": []
  },
  {
   "cell_type": "code",
   "execution_count": 27,
   "metadata": {},
   "outputs": [
    {
     "name": "stdout",
     "output_type": "stream",
     "text": [
      "0\n"
     ]
    }
   ],
   "source": []
  },
  {
   "cell_type": "code",
   "execution_count": null,
   "metadata": {},
   "outputs": [],
   "source": []
  }
 ],
 "metadata": {
  "kernelspec": {
   "display_name": "Python 3.10.8 64-bit (microsoft store)",
   "language": "python",
   "name": "python3"
  },
  "language_info": {
   "codemirror_mode": {
    "name": "ipython",
    "version": 3
   },
   "file_extension": ".py",
   "mimetype": "text/x-python",
   "name": "python",
   "nbconvert_exporter": "python",
   "pygments_lexer": "ipython3",
   "version": "3.10.8"
  },
  "orig_nbformat": 4,
  "vscode": {
   "interpreter": {
    "hash": "02e1d9f3b460d40007911a0e546e57c12c665d50b95f67e6c2a30f4582722554"
   }
  }
 },
 "nbformat": 4,
 "nbformat_minor": 2
}
