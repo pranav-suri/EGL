{
 "cells": [
  {
   "cell_type": "code",
   "execution_count": 41,
   "metadata": {},
   "outputs": [],
   "source": [
    "import math"
   ]
  },
  {
   "cell_type": "code",
   "execution_count": 52,
   "metadata": {},
   "outputs": [],
   "source": [
    "# distance from hp, vp\n",
    "d_hp = int(input(\"Distance from HP: \"))\n",
    "d_vp = int(input(\"Distance from VP: \"))\n",
    "\n",
    "#fv, tv  coordinates of starting point\n",
    "\n",
    "fv_coord1 = (0,d_hp)\n",
    "fv_x_coord1, fv_y_coord1 = fv_coord1\n",
    "\n",
    "tv_coord1 = (0,-1*d_vp)\n",
    "tv_x_coord1, tv_y_coord1 = tv_coord1\n",
    "\n",
    "line_len = int(input(\"Length of line: \"))"
   ]
  },
  {
   "cell_type": "code",
   "execution_count": 53,
   "metadata": {},
   "outputs": [],
   "source": [
    "hp_angle = int(input(\"Inclination to HP: \"))\n",
    "tv_angle4 = int(input(\"Angle of TV to XY line: \"))"
   ]
  },
  {
   "cell_type": "code",
   "execution_count": 57,
   "metadata": {},
   "outputs": [
    {
     "name": "stdout",
     "output_type": "stream",
     "text": [
      "37.76124390703503\n"
     ]
    }
   ],
   "source": [
    "# Finding coordinates of FV Coordiante 2\n",
    "fv_p_len2 = math.sin(math.radians(hp_angle)) * line_len\n",
    "fv_b_len2 = math.cos(math.radians(hp_angle)) * line_len\n",
    "\n",
    "fv_coord2 = (fv_x_coord1+fv_b_len2, fv_y_coord1+fv_p_len2)\n",
    "fv_x_coord2, fv_y_coord2 = fv_coord2\n",
    "\n",
    "tv_h_len4 = fv_b_len2\n",
    "tv_p_len4 = math.sin(math.radians(tv_angle4))*tv_h_len4\n",
    "tv_b_len4 = math.cos(math.radians(tv_angle4))*tv_h_len4\n",
    "\n",
    "vp_angle = math.degrees(math.asin(tv_p_len4/line_len))"
   ]
  },
  {
   "cell_type": "code",
   "execution_count": 58,
   "metadata": {},
   "outputs": [],
   "source": [
    "#hp, vp coordinates\n",
    "\n",
    "fv_p_len2 = math.sin(math.radians(hp_angle)) * line_len\n",
    "fv_b_len2 = math.cos(math.radians(hp_angle)) * line_len\n",
    "\n",
    "tv_p_len2 = math.sin(math.radians(vp_angle)) * line_len\n",
    "tv_b_len2 = math.cos(math.radians(vp_angle)) * line_len\n",
    "\n",
    "if fv_y_coord1 < 0 and fv_p_len2 > 0:\n",
    "    fv_p_len2 *= -1\n",
    "if tv_y_coord1 < 0 and tv_p_len2 > 0:\n",
    "    tv_p_len2 *= -1\n",
    "\n",
    "fv_coord2 = (fv_x_coord1+fv_b_len2, fv_y_coord1+fv_p_len2)\n",
    "fv_x_coord2, fv_y_coord2 = fv_coord2\n",
    "\n",
    "tv_coord2 = (tv_x_coord1+tv_b_len2,tv_y_coord1+tv_p_len2)\n",
    "tv_x_coord2, tv_y_coord2 = tv_coord2\n",
    "\n",
    "fv_coord3 = (fv_x_coord1+tv_b_len2,fv_y_coord1)\n",
    "fv_x_coord3, fv_y_coord3 = fv_coord3\n",
    "\n",
    "tv_coord3 = (tv_x_coord1+fv_b_len2,tv_y_coord1)\n",
    "tv_x_coord3, tv_y_coord3 = tv_coord3\n",
    "\n",
    "fv_h_len4 = math.dist([fv_x_coord1],[tv_x_coord2])\n",
    "fv_p_len4 = math.dist([fv_y_coord1],[fv_y_coord2])\n",
    "fv_angle4 = math.degrees(math.asin(fv_p_len4/fv_h_len4))\n",
    "fv_b_len4 = math.cos(math.radians(fv_angle4)) * fv_h_len4\n",
    "\n",
    "tv_h_len4 = math.dist([tv_x_coord1],[fv_x_coord2])\n",
    "tv_p_len4 = math.dist([tv_y_coord1],[tv_y_coord2])\n",
    "tv_angle4 = math.degrees(math.asin(tv_p_len4/tv_h_len4))\n",
    "tv_b_len4 = math.cos(math.radians(tv_angle4)) * tv_h_len4\n",
    "\n",
    "if fv_y_coord1 < 0 and fv_p_len4 > 0:\n",
    "    fv_p_len4 *= -1\n",
    "if tv_y_coord1 < 0 and tv_p_len4 > 0:\n",
    "    tv_p_len4 *= -1\n",
    "\n",
    "fv_coord4 = (fv_x_coord1+fv_b_len4, fv_y_coord1+fv_p_len4)\n",
    "fv_x_coord4, fv_y_coord4 = fv_coord4\n",
    "\n",
    "tv_coord4 = (tv_x_coord1+tv_b_len4,tv_y_coord1+tv_p_len4)\n",
    "tv_x_coord4, tv_y_coord4 = tv_coord4"
   ]
  },
  {
   "cell_type": "code",
   "execution_count": 59,
   "metadata": {},
   "outputs": [
    {
     "name": "stdout",
     "output_type": "stream",
     "text": [
      "(0, 0) (63.63961030678928, 63.63961030678928) (71.15124735378853, 0) (31.81980515339463, 63.63961030678928)\n",
      "(0, -15) (71.15124735378853, -70.1135192126215) (63.63961030678928, -15) (31.81980515339466, -70.1135192126215)\n"
     ]
    }
   ],
   "source": [
    "print(fv_coord1, fv_coord2, fv_coord3, fv_coord4)\n",
    "print(tv_coord1, tv_coord2, tv_coord3, tv_coord4)"
   ]
  },
  {
   "cell_type": "code",
   "execution_count": 60,
   "metadata": {},
   "outputs": [
    {
     "data": {
      "image/png": "[encoded data removed]",
      "text/plain": [
       "<Figure size 640x480 with 1 Axes>"
      ]
     },
     "metadata": {},
     "output_type": "display_data"
    }
   ],
   "source": [
    "import matplotlib.pyplot as plt\n",
    "\n",
    "plt.grid(True)\n",
    "\n",
    "x = [fv_x_coord1, fv_x_coord4]\n",
    "y = [fv_y_coord1, fv_y_coord4]\n",
    "\n",
    "plt.plot(x, y, label=\"front view1\")\n",
    "\n",
    "x = [fv_x_coord1, fv_x_coord2]\n",
    "y = [fv_y_coord1, fv_y_coord2]\n",
    "\n",
    "plt.plot(x, y, label=\"front view2\")\n",
    "\n",
    "x = [tv_x_coord1, tv_x_coord4]\n",
    "y = [tv_y_coord1, tv_y_coord4]\n",
    "\n",
    "plt.plot(x, y, label=\"top view1\")\n",
    "\n",
    "x = [tv_x_coord1, tv_x_coord2]\n",
    "y = [tv_y_coord1, tv_y_coord2]\n",
    "\n",
    "plt.plot(x, y, label=\"top view2\")\n",
    "\n",
    "# horizontal line\n",
    "\n",
    "plt.plot([0,200], [0,0], label=\"horizontal line\")\n",
    "\n",
    "plt.xlim(-200,200)\n",
    "plt.ylim(-100,100)\n",
    "\n",
    "plt.show()"
   ]
  },
  {
   "cell_type": "code",
   "execution_count": 61,
   "metadata": {},
   "outputs": [
    {
     "data": {
      "text/plain": [
       "37.76124390703503"
      ]
     },
     "execution_count": 61,
     "metadata": {},
     "output_type": "execute_result"
    }
   ],
   "source": [
    "vp_angle"
   ]
  },
  {
   "cell_type": "code",
   "execution_count": 62,
   "metadata": {},
   "outputs": [
    {
     "name": "stdout",
     "output_type": "stream",
     "text": [
      "FVL:  71.15124735378853\n",
      "TVL:  63.63961030678928\n",
      "Theta:  45\n",
      "Phi:  37.76124390703503\n",
      "Alpha:  63.43494882292202\n",
      "Beta:  59.999999999999986\n"
     ]
    }
   ],
   "source": [
    "print(\"FVL: \", fv_h_len4)\n",
    "print(\"TVL: \",tv_h_len4)\n",
    "print(\"Theta: \", hp_angle)\n",
    "print(\"Phi: \", vp_angle)\n",
    "print(\"Alpha: \", fv_angle4)\n",
    "print(\"Beta: \", tv_angle4)"
   ]
  },
  {
   "cell_type": "code",
   "execution_count": 50,
   "metadata": {},
   "outputs": [
    {
     "data": {
      "text/plain": [
       "63.63961030678928"
      ]
     },
     "execution_count": 50,
     "metadata": {},
     "output_type": "execute_result"
    }
   ],
   "source": [
    "tv_h_len4"
   ]
  },
  {
   "cell_type": "code",
   "execution_count": 66,
   "metadata": {},
   "outputs": [
    {
     "data": {
      "text/plain": [
       "60.0"
      ]
     },
     "execution_count": 66,
     "metadata": {},
     "output_type": "execute_result"
    }
   ],
   "source": [
    "round(tv_angle4,1)"
   ]
  },
  {
   "cell_type": "code",
   "execution_count": null,
   "metadata": {},
   "outputs": [],
   "source": []
  }
 ],
 "metadata": {
  "kernelspec": {
   "display_name": "Python 3.10.8 64-bit (microsoft store)",
   "language": "python",
   "name": "python3"
  },
  "language_info": {
   "codemirror_mode": {
    "name": "ipython",
    "version": 3
   },
   "file_extension": ".py",
   "mimetype": "text/x-python",
   "name": "python",
   "nbconvert_exporter": "python",
   "pygments_lexer": "ipython3",
   "version": "3.10.8"
  },
  "orig_nbformat": 4,
  "vscode": {
   "interpreter": {
    "hash": "beeedca20cd312649b6388a6f53cdb7f0333e0c68baa7d357f78aafe8413c39f"
   }
  }
 },
 "nbformat": 4,
 "nbformat_minor": 2
}
