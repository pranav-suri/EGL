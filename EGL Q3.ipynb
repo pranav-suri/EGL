{
 "cells": [
  {
   "cell_type": "code",
   "execution_count": 1,
   "metadata": {},
   "outputs": [],
   "source": [
    "import math"
   ]
  },
  {
   "cell_type": "code",
   "execution_count": 2,
   "metadata": {},
   "outputs": [],
   "source": [
    "# distance from hp, vp\n",
    "d_hp = int(input(\"Distance from HP: \"))\n",
    "d_vp = int(input(\"Distance from VP: \"))\n",
    "\n",
    "#fv, tv  coordinates of starting point\n",
    "\n",
    "fv_coord1 = (0,d_hp)\n",
    "fv_x_coord1, fv_y_coord1 = fv_coord1\n",
    "\n",
    "tv_coord1 = (0,-1*d_vp)\n",
    "tv_x_coord1, tv_y_coord1 = tv_coord1\n",
    "\n",
    "line_len = int(input(\"Length of line: \"))"
   ]
  },
  {
   "cell_type": "code",
   "execution_count": 6,
   "metadata": {},
   "outputs": [],
   "source": [
    "hp_angle = int(input(\"Inclination to HP: \"))\n",
    "tv_angle4 = int(input(\"Angle of TV to XY line: \"))"
   ]
  },
  {
   "cell_type": "code",
   "execution_count": 21,
   "metadata": {},
   "outputs": [
    {
     "name": "stdout",
     "output_type": "stream",
     "text": [
      "(63.63961030678928, 63.63961030678928)\n"
     ]
    }
   ],
   "source": [
    "# Finding coordinates of FV Coordiante 2\n",
    "fv_p_len2 = math.sin(math.radians(hp_angle)) * line_len\n",
    "fv_b_len2 = math.cos(math.radians(hp_angle)) * line_len\n",
    "\n",
    "fv_coord2 = (fv_x_coord1+fv_b_len2, fv_y_coord1+fv_p_len2)\n",
    "fv_x_coord2, fv_y_coord2 = fv_coord2\n",
    "\n",
    "tv_h_len4 = math.dist([fv_x_coord1],[fv_x_coord2])\n",
    "tv_p_len4 = math.cos(math.radians(tv_angle4))*tv_h_len4\n",
    "tv_b_len4 = math.sin(math.radians(tv_angle4))*tv_h_len4\n",
    "\n",
    "vp_angle = math.degrees(math.sin(tv_p_len4/line_len))"
   ]
  },
  {
   "cell_type": "code",
   "execution_count": 22,
   "metadata": {},
   "outputs": [],
   "source": [
    "#hp, vp coordinates\n",
    "\n",
    "fv_p_len2 = math.sin(math.radians(hp_angle)) * line_len\n",
    "fv_b_len2 = math.cos(math.radians(hp_angle)) * line_len\n",
    "\n",
    "tv_p_len2 = math.sin(math.radians(vp_angle)) * line_len\n",
    "tv_b_len2 = math.cos(math.radians(vp_angle)) * line_len\n",
    "\n",
    "if fv_y_coord1<0:\n",
    "    fv_p_len2 *= -1\n",
    "if tv_y_coord1<0:\n",
    "    tv_p_len2 *= -1\n",
    "\n",
    "fv_coord2 = (fv_x_coord1+fv_b_len2, fv_y_coord1+fv_p_len2)\n",
    "fv_x_coord2, fv_y_coord2 = fv_coord2\n",
    "\n",
    "tv_coord2 = (tv_x_coord1+tv_b_len2,tv_y_coord1+tv_p_len2)\n",
    "tv_x_coord2, tv_y_coord2 = tv_coord2\n",
    "\n",
    "fv_coord3 = (fv_x_coord1+tv_b_len2,fv_y_coord1)\n",
    "fv_x_coord3, fv_y_coord3 = fv_coord3\n",
    "\n",
    "tv_coord3 = (tv_x_coord1+fv_b_len2,tv_y_coord1)\n",
    "tv_x_coord3, tv_y_coord3 = tv_coord3\n",
    "\n",
    "fv_h_len4 = math.dist([fv_x_coord1],[tv_x_coord2])\n",
    "fv_p_len4 = math.dist([fv_y_coord1],[fv_y_coord2])\n",
    "fv_angle4 = math.degrees(math.asin(fv_p_len4/fv_h_len4))\n",
    "fv_b_len4 = math.cos(math.radians(fv_angle4)) * fv_h_len4\n",
    "\n",
    "tv_h_len4 = math.dist([tv_x_coord1],[fv_x_coord2])\n",
    "tv_p_len4 = math.dist([tv_y_coord1],[tv_y_coord2])\n",
    "tv_angle4 = math.degrees(math.asin(tv_p_len4/tv_h_len4))\n",
    "tv_b_len4 = math.cos(math.radians(tv_angle4)) * tv_h_len4\n",
    "\n",
    "if fv_y_coord1<0:\n",
    "    fv_p_len4 *= -1\n",
    "if tv_y_coord1<0:\n",
    "    tv_p_len4 *= -1\n",
    "\n",
    "fv_coord4 = (fv_x_coord1+fv_b_len4, fv_y_coord1+fv_p_len4)\n",
    "fv_x_coord4, fv_y_coord4 = fv_coord4\n",
    "\n",
    "tv_coord4 = (tv_x_coord1+tv_b_len4,tv_y_coord1+tv_p_len4)\n",
    "tv_x_coord4, tv_y_coord4 = tv_coord4"
   ]
  },
  {
   "cell_type": "code",
   "execution_count": 23,
   "metadata": {},
   "outputs": [
    {
     "name": "stdout",
     "output_type": "stream",
     "text": [
      "(0, 0) (63.63961030678928, 63.63961030678928) (76.90651272419005, 0) (43.181149815585115, 63.63961030678928)\n",
      "(0, -15) (76.90651272419005, -61.74813686772976) (63.63961030678928, -15) (43.1811498155851, -61.74813686772976)\n"
     ]
    }
   ],
   "source": [
    "print(fv_coord1, fv_coord2, fv_coord3, fv_coord4)\n",
    "print(tv_coord1, tv_coord2, tv_coord3, tv_coord4)"
   ]
  },
  {
   "cell_type": "code",
   "execution_count": 24,
   "metadata": {},
   "outputs": [
    {
     "data": {
      "image/png": "[encoded data removed]",
      "text/plain": [
       "<Figure size 640x480 with 1 Axes>"
      ]
     },
     "metadata": {},
     "output_type": "display_data"
    }
   ],
   "source": [
    "import matplotlib.pyplot as plt\n",
    "\n",
    "plt.grid(True)\n",
    "\n",
    "x = [fv_x_coord1, fv_x_coord4]\n",
    "y = [fv_y_coord1, fv_y_coord4]\n",
    "\n",
    "plt.plot(x, y, label=\"front view1\")\n",
    "\n",
    "x = [fv_x_coord1, fv_x_coord2]\n",
    "y = [fv_y_coord1, fv_y_coord2]\n",
    "\n",
    "plt.plot(x, y, label=\"front view2\")\n",
    "\n",
    "x = [tv_x_coord1, tv_x_coord4]\n",
    "y = [tv_y_coord1, tv_y_coord4]\n",
    "\n",
    "plt.plot(x, y, label=\"top view1\")\n",
    "\n",
    "x = [tv_x_coord1, tv_x_coord2]\n",
    "y = [tv_y_coord1, tv_y_coord2]\n",
    "\n",
    "plt.plot(x, y, label=\"top view2\")\n",
    "\n",
    "# horizontal line\n",
    "\n",
    "plt.plot([0,200], [0,0], label=\"horizontal line\")\n",
    "\n",
    "plt.xlim(-200,200)\n",
    "plt.ylim(-100,100)\n",
    "\n",
    "plt.show()"
   ]
  },
  {
   "cell_type": "code",
   "execution_count": 20,
   "metadata": {},
   "outputs": [
    {
     "data": {
      "text/plain": [
       "0.43443846550164716"
      ]
     },
     "execution_count": 20,
     "metadata": {},
     "output_type": "execute_result"
    }
   ],
   "source": [
    "vp_angle"
   ]
  },
  {
   "cell_type": "code",
   "execution_count": null,
   "metadata": {},
   "outputs": [],
   "source": []
  }
 ],
 "metadata": {
  "kernelspec": {
   "display_name": "Python 3.10.8 64-bit (microsoft store)",
   "language": "python",
   "name": "python3"
  },
  "language_info": {
   "codemirror_mode": {
    "name": "ipython",
    "version": 3
   },
   "file_extension": ".py",
   "mimetype": "text/x-python",
   "name": "python",
   "nbconvert_exporter": "python",
   "pygments_lexer": "ipython3",
   "version": "3.10.8"
  },
  "orig_nbformat": 4,
  "vscode": {
   "interpreter": {
    "hash": "02e1d9f3b460d40007911a0e546e57c12c665d50b95f67e6c2a30f4582722554"
   }
  }
 },
 "nbformat": 4,
 "nbformat_minor": 2
}
