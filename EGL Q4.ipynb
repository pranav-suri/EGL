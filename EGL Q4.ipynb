{
 "cells": [
  {
   "cell_type": "code",
   "execution_count": 1,
   "metadata": {},
   "outputs": [],
   "source": [
    "import math"
   ]
  },
  {
   "cell_type": "code",
   "execution_count": 3,
   "metadata": {},
   "outputs": [],
   "source": [
    "# distance from hp, vp of starting point\n",
    "d_hp = int(input(\"Distance from HP: \"))\n",
    "d_vp = int(input(\"Distance from VP: \"))\n",
    "\n",
    "#fv, tv  coordinates of starting point\n",
    "fv_coord1 = (0,d_hp)\n",
    "fv_x_coord1, fv_y_coord1 = fv_coord1\n",
    "\n",
    "tv_coord1 = (0,-1*d_vp)\n",
    "tv_x_coord1, tv_y_coord1 = tv_coord1\n",
    "\n",
    "line_len = int(input(\"Length of line: \"))"
   ]
  },
  {
   "cell_type": "code",
   "execution_count": 5,
   "metadata": {},
   "outputs": [],
   "source": [
    "fv_len4 = int(input(\"Length of FV: \"))\n",
    "tv_len4 = int(input(\"Length of TV: \"))"
   ]
  },
  {
   "cell_type": "code",
   "execution_count": 6,
   "metadata": {},
   "outputs": [],
   "source": [
    "fv_b_len2 = tv_len4\n",
    "tv_b_len2 = fv_len4\n",
    "\n",
    "hp_angle = math.degrees(math.acos(fv_b_len2/line_len))\n",
    "vp_angle = math.degrees(math.acos(tv_b_len2/line_len))"
   ]
  },
  {
   "cell_type": "code",
   "execution_count": 7,
   "metadata": {},
   "outputs": [],
   "source": [
    "#hp, vp coordinates\n",
    "\n",
    "fv_p_len2 = math.sin(math.radians(hp_angle)) * line_len\n",
    "fv_b_len2 = math.cos(math.radians(hp_angle)) * line_len\n",
    "\n",
    "tv_p_len2 = math.sin(math.radians(vp_angle)) * line_len\n",
    "tv_b_len2 = math.cos(math.radians(vp_angle)) * line_len\n",
    "\n",
    "if fv_y_coord1<0:\n",
    "    fv_p_len2 *= -1\n",
    "if tv_y_coord1<0:\n",
    "    tv_p_len2 *= -1\n",
    "\n",
    "fv_coord2 = (fv_x_coord1+fv_b_len2, fv_y_coord1+fv_p_len2)\n",
    "fv_x_coord2, fv_y_coord2 = fv_coord2\n",
    "\n",
    "tv_coord2 = (tv_x_coord1+tv_b_len2,tv_y_coord1+tv_p_len2)\n",
    "tv_x_coord2, tv_y_coord2 = tv_coord2\n",
    "\n",
    "fv_coord3 = (fv_x_coord1+tv_b_len2,fv_y_coord1)\n",
    "fv_x_coord3, fv_y_coord3 = fv_coord3\n",
    "\n",
    "tv_coord3 = (tv_x_coord1+fv_b_len2,tv_y_coord1)\n",
    "tv_x_coord3, tv_y_coord3 = tv_coord3\n",
    "\n",
    "fv_h_len4 = math.dist([fv_x_coord1],[tv_x_coord2])\n",
    "fv_p_len4 = math.dist([fv_y_coord1],[fv_y_coord2])\n",
    "fv_angle4 = math.degrees(math.asin(fv_p_len4/fv_h_len4))\n",
    "fv_b_len4 = math.cos(math.radians(fv_angle4)) * fv_h_len4\n",
    "\n",
    "tv_h_len4 = math.dist([tv_x_coord1],[fv_x_coord2])\n",
    "tv_p_len4 = math.dist([tv_y_coord1],[tv_y_coord2])\n",
    "tv_angle4 = math.degrees(math.asin(tv_p_len4/tv_h_len4))\n",
    "tv_b_len4 = math.cos(math.radians(tv_angle4)) * tv_h_len4\n",
    "\n",
    "if fv_y_coord1<0:\n",
    "    fv_p_len4 *= -1\n",
    "if tv_y_coord1<0:\n",
    "    tv_p_len4 *= -1\n",
    "\n",
    "fv_coord4 = (fv_x_coord1+fv_b_len4, fv_y_coord1+fv_p_len4)\n",
    "fv_x_coord4, fv_y_coord4 = fv_coord4\n",
    "\n",
    "tv_coord4 = (tv_x_coord1+tv_b_len4,tv_y_coord1+tv_p_len4)\n",
    "tv_x_coord4, tv_y_coord4 = tv_coord4"
   ]
  },
  {
   "cell_type": "code",
   "execution_count": 8,
   "metadata": {},
   "outputs": [
    {
     "name": "stdout",
     "output_type": "stream",
     "text": [
      "(0, 10) (60.0, 46.0555127546399) (50.0, 10) (34.641016151377535, 46.0555127546399)\n",
      "(0, -15) (50.0, -63.98979485566356) (60.0, -15) (34.64101615137754, -63.98979485566356)\n"
     ]
    }
   ],
   "source": [
    "print(fv_coord1, fv_coord2, fv_coord3, fv_coord4)\n",
    "print(tv_coord1, tv_coord2, tv_coord3, tv_coord4)"
   ]
  },
  {
   "cell_type": "code",
   "execution_count": 9,
   "metadata": {},
   "outputs": [
    {
     "data": {
      "image/png": "[encoded data removed]",
      "text/plain": [
       "<Figure size 640x480 with 1 Axes>"
      ]
     },
     "metadata": {},
     "output_type": "display_data"
    }
   ],
   "source": [
    "import matplotlib.pyplot as plt\n",
    "\n",
    "plt.grid(True)\n",
    "\n",
    "x = [fv_x_coord1, fv_x_coord4]\n",
    "y = [fv_y_coord1, fv_y_coord4]\n",
    "\n",
    "plt.plot(x, y, label=\"front view1\")\n",
    "\n",
    "x = [fv_x_coord1, fv_x_coord2]\n",
    "y = [fv_y_coord1, fv_y_coord2]\n",
    "\n",
    "plt.plot(x, y, label=\"front view2\")\n",
    "\n",
    "x = [tv_x_coord1, tv_x_coord4]\n",
    "y = [tv_y_coord1, tv_y_coord4]\n",
    "\n",
    "plt.plot(x, y, label=\"top view1\")\n",
    "\n",
    "x = [tv_x_coord1, tv_x_coord2]\n",
    "y = [tv_y_coord1, tv_y_coord2]\n",
    "\n",
    "plt.plot(x, y, label=\"top view2\")\n",
    "\n",
    "# horizontal line\n",
    "\n",
    "plt.plot([0,200], [0,0], label=\"horizontal line\")\n",
    "\n",
    "plt.xlim(-200,200)\n",
    "plt.ylim(-100,100)\n",
    "\n",
    "plt.show()"
   ]
  },
  {
   "cell_type": "code",
   "execution_count": null,
   "metadata": {},
   "outputs": [],
   "source": []
  }
 ],
 "metadata": {
  "kernelspec": {
   "display_name": "Python 3.10.8 64-bit (microsoft store)",
   "language": "python",
   "name": "python3"
  },
  "language_info": {
   "codemirror_mode": {
    "name": "ipython",
    "version": 3
   },
   "file_extension": ".py",
   "mimetype": "text/x-python",
   "name": "python",
   "nbconvert_exporter": "python",
   "pygments_lexer": "ipython3",
   "version": "3.10.8"
  },
  "orig_nbformat": 4,
  "vscode": {
   "interpreter": {
    "hash": "beeedca20cd312649b6388a6f53cdb7f0333e0c68baa7d357f78aafe8413c39f"
   }
  }
 },
 "nbformat": 4,
 "nbformat_minor": 2
}
