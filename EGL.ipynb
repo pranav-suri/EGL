{
 "cells": [
  {
   "cell_type": "code",
   "execution_count": 1,
   "metadata": {},
   "outputs": [],
   "source": [
    "import math"
   ]
  },
  {
   "cell_type": "code",
   "execution_count": 2,
   "metadata": {},
   "outputs": [],
   "source": [
    "# distance from hp, vp\n",
    "d_hp = int(input(\"Distance from HP: \"))\n",
    "d_vp = int(input(\"Distance from VP: \"))\n"
   ]
  },
  {
   "cell_type": "code",
   "execution_count": 3,
   "metadata": {},
   "outputs": [],
   "source": [
    "# fv, tv  coordinates\n",
    "fv_coord1 = (0, d_hp)\n",
    "fv_x_coord1, fv_y_coord1 = fv_coord1\n",
    "\n",
    "tv_coord1 = (0, -1*d_vp)\n",
    "tv_x_coord1, tv_y_coord1 = tv_coord1\n"
   ]
  },
  {
   "cell_type": "markdown",
   "metadata": {},
   "source": [
    "Line"
   ]
  },
  {
   "cell_type": "code",
   "execution_count": 4,
   "metadata": {},
   "outputs": [],
   "source": [
    "line_len = int(input(\"Length of line: \"))  # hypotenuse\n",
    "hp_angle = int(input(\"Inclination to HP: \"))\n",
    "vp_angle = int(input(\"Inclination to VP: \"))\n"
   ]
  },
  {
   "cell_type": "code",
   "execution_count": 5,
   "metadata": {},
   "outputs": [],
   "source": [
    "# hp, vp coordinates\n",
    "\n",
    "fv_p_len2 = math.sin(math.radians(hp_angle)) * line_len\n",
    "fv_b_len2 = math.cos(math.radians(hp_angle)) * line_len\n",
    "\n",
    "tv_p_len2 = math.sin(math.radians(vp_angle)) * line_len\n",
    "tv_b_len2 = math.cos(math.radians(vp_angle)) * line_len\n",
    "\n",
    "if fv_y_coord1 < 0:\n",
    "    fv_p_len2 *= -1\n",
    "if tv_y_coord1 < 0:\n",
    "    tv_p_len2 *= -1\n",
    "\n",
    "fv_coord2 = (fv_x_coord1+fv_b_len2, fv_y_coord1+fv_p_len2)\n",
    "fv_x_coord2, fv_y_coord2 = fv_coord2\n",
    "\n",
    "tv_coord2 = (tv_x_coord1+tv_b_len2, tv_y_coord1+tv_p_len2)\n",
    "tv_x_coord2, tv_y_coord2 = tv_coord2\n",
    "\n",
    "fv_coord3 = (fv_x_coord1+tv_b_len2, fv_y_coord1)\n",
    "fv_x_coord3, fv_y_coord3 = fv_coord3\n",
    "\n",
    "tv_coord3 = (tv_x_coord1+fv_b_len2, tv_y_coord1)\n",
    "tv_x_coord3, tv_y_coord3 = tv_coord3\n",
    "\n",
    "fv_h_len4 = math.dist([fv_x_coord1], [tv_x_coord2])\n",
    "fv_p_len4 = math.dist([fv_y_coord1], [fv_y_coord2])\n",
    "fv_angle4 = math.degrees(math.asin(fv_p_len4/fv_h_len4))\n",
    "fv_b_len4 = math.cos(math.radians(fv_angle4)) * fv_h_len4\n",
    "\n",
    "tv_h_len4 = math.dist([tv_x_coord1], [fv_x_coord2])\n",
    "tv_p_len4 = math.dist([tv_y_coord1], [tv_y_coord2])\n",
    "tv_angle4 = math.degrees(math.asin(tv_p_len4/tv_h_len4))\n",
    "tv_b_len4 = math.cos(math.radians(tv_angle4)) * tv_h_len4\n",
    "\n",
    "if fv_y_coord1 < 0:\n",
    "    fv_p_len4 *= -1\n",
    "if tv_y_coord1 < 0:\n",
    "    tv_p_len4 *= -1\n",
    "\n",
    "fv_coord4 = (fv_x_coord1+fv_b_len4, fv_y_coord1+fv_p_len4)\n",
    "tv_coord4 = (tv_x_coord1+tv_b_len4, tv_y_coord1+tv_p_len4)\n",
    "\n",
    "fv_x_coord4, fv_y_coord4 = fv_coord4\n",
    "tv_x_coord4, tv_y_coord4 = tv_coord4\n"
   ]
  },
  {
   "cell_type": "code",
   "execution_count": 6,
   "metadata": {},
   "outputs": [
    {
     "name": "stdout",
     "output_type": "stream",
     "text": [
      "(0, 15) (86.60254037844388, 65.0) (70.71067811865476, 15) (50.000000000000014, 65.0)\n",
      "(0, -20) (70.71067811865476, -90.71067811865476) (86.60254037844388, -20) (50.000000000000014, -90.71067811865476)\n"
     ]
    }
   ],
   "source": [
    "print(fv_coord1, fv_coord2, fv_coord3, fv_coord4)\n",
    "print(tv_coord1, tv_coord2, tv_coord3, tv_coord4)"
   ]
  },
  {
   "cell_type": "code",
   "execution_count": 7,
   "metadata": {},
   "outputs": [],
   "source": [
    "# import matplotlib.pyplot as plt\n",
    "\n",
    "# %matplotlib widget\n",
    "\n",
    "# plt.grid(True)\n",
    "\n",
    "# x = [fv_x_coord1, fv_x_coord4]\n",
    "# y = [fv_y_coord1, fv_y_coord4]\n",
    "\n",
    "# plt.plot(x, y, label=\"front view1\")\n",
    "\n",
    "# x = [fv_x_coord1, fv_x_coord2]\n",
    "# y = [fv_y_coord1, fv_y_coord2]\n",
    "\n",
    "# plt.plot(x, y, label=\"front view2\")\n",
    "\n",
    "# x = [tv_x_coord1, tv_x_coord4]\n",
    "# y = [tv_y_coord1, tv_y_coord4]\n",
    "\n",
    "# plt.plot(x, y, label=\"top view1\")\n",
    "\n",
    "# x = [tv_x_coord1, tv_x_coord2]\n",
    "# y = [tv_y_coord1, tv_y_coord2]\n",
    "\n",
    "# plt.plot(x, y, label=\"top view2\")\n",
    "\n",
    "# # horizontal line\n",
    "\n",
    "# plt.plot([0,200], [0,0], label=\"horizontal line\")\n",
    "\n",
    "# plt.xlim(-200,200)\n",
    "# plt.ylim(-100,100)\n",
    "\n",
    "# plt.show()\n"
   ]
  },
  {
   "cell_type": "code",
   "execution_count": 8,
   "metadata": {},
   "outputs": [
    {
     "ename": "Terminator",
     "evalue": "",
     "output_type": "error",
     "traceback": [
      "\u001b[1;31m---------------------------------------------------------------------------\u001b[0m",
      "\u001b[1;31mTerminator\u001b[0m                                Traceback (most recent call last)",
      "Cell \u001b[1;32mIn [8], line 118\u001b[0m\n\u001b[0;32m    116\u001b[0m write(\u001b[39m\"\u001b[39m\u001b[39mA`\u001b[39m\u001b[39m\"\u001b[39m, align\u001b[39m=\u001b[39m\u001b[39m\"\u001b[39m\u001b[39mleft\u001b[39m\u001b[39m\"\u001b[39m, font\u001b[39m=\u001b[39m(\u001b[39m\"\u001b[39m\u001b[39mArial\u001b[39m\u001b[39m\"\u001b[39m, \u001b[39m10\u001b[39m, \u001b[39m\"\u001b[39m\u001b[39mnormal\u001b[39m\u001b[39m\"\u001b[39m))\n\u001b[0;32m    117\u001b[0m goto(fv_coord2)\n\u001b[1;32m--> 118\u001b[0m write(\u001b[39m\"\u001b[39;49m\u001b[39mB2`\u001b[39;49m\u001b[39m\"\u001b[39;49m, align\u001b[39m=\u001b[39;49m\u001b[39m\"\u001b[39;49m\u001b[39mleft\u001b[39;49m\u001b[39m\"\u001b[39;49m, font\u001b[39m=\u001b[39;49m(\u001b[39m\"\u001b[39;49m\u001b[39mArial\u001b[39;49m\u001b[39m\"\u001b[39;49m, \u001b[39m10\u001b[39;49m, \u001b[39m\"\u001b[39;49m\u001b[39mnormal\u001b[39;49m\u001b[39m\"\u001b[39;49m))\n\u001b[0;32m    119\u001b[0m goto(fv_coord3)\n\u001b[0;32m    120\u001b[0m write(\u001b[39m\"\u001b[39m\u001b[39mB1`\u001b[39m\u001b[39m\"\u001b[39m, align\u001b[39m=\u001b[39m\u001b[39m\"\u001b[39m\u001b[39mleft\u001b[39m\u001b[39m\"\u001b[39m, font\u001b[39m=\u001b[39m(\u001b[39m\"\u001b[39m\u001b[39mArial\u001b[39m\u001b[39m\"\u001b[39m, \u001b[39m10\u001b[39m, \u001b[39m\"\u001b[39m\u001b[39mnormal\u001b[39m\u001b[39m\"\u001b[39m))\n",
      "File \u001b[1;32m<string>:5\u001b[0m, in \u001b[0;36mwrite\u001b[1;34m(arg, move, align, font)\u001b[0m\n",
      "\u001b[1;31mTerminator\u001b[0m: "
     ]
    }
   ],
   "source": []
  }
 ],
 "metadata": {
  "kernelspec": {
   "display_name": "Python 3.10.8 64-bit (microsoft store)",
   "language": "python",
   "name": "python3"
  },
  "language_info": {
   "codemirror_mode": {
    "name": "ipython",
    "version": 3
   },
   "file_extension": ".py",
   "mimetype": "text/x-python",
   "name": "python",
   "nbconvert_exporter": "python",
   "pygments_lexer": "ipython3",
   "version": "3.10.8"
  },
  "orig_nbformat": 4,
  "vscode": {
   "interpreter": {
    "hash": "beeedca20cd312649b6388a6f53cdb7f0333e0c68baa7d357f78aafe8413c39f"
   }
  }
 },
 "nbformat": 4,
 "nbformat_minor": 2
}
